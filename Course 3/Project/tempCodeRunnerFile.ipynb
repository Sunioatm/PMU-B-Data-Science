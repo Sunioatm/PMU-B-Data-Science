abetes.csv')
ProfileReport(df_original)