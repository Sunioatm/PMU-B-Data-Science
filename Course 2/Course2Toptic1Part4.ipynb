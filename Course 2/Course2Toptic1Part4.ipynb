{
  "cells": [
    {
      "cell_type": "markdown",
      "metadata": {
        "id": "hSZx5CXGMJYJ",
        "jp-MarkdownHeadingCollapsed": true,
        "tags": []
      },
      "source": [
        "<img src = 'https://drive.google.com/uc?id=18zsxFId1FaUI1RvfkAex6ZoNpToP8GoT'>"
      ]
    },
    {
      "cell_type": "markdown",
      "metadata": {
        "id": "yoaEjUYBH9uS"
      },
      "source": [
        "---"
      ]
    },
    {
      "cell_type": "markdown",
      "metadata": {
        "id": "dTEnS9ttMJYP"
      },
      "source": [
        "# ผู้บรรยาย: ผู้ช่วยศาสตราจารย์ ดร. วีระชัย สาระคร\n",
        "## สาขาวิชาคณิตศาสตร์ คณะวิทยาศาสตร์ มหาวิทยาลัยขอนแก่น"
      ]
    },
    {
      "cell_type": "markdown",
      "metadata": {
        "id": "MCNPBf79H9uT"
      },
      "source": [
        "---"
      ]
    },
    {
      "cell_type": "markdown",
      "metadata": {
        "id": "Do-3ccWrMJYQ",
        "tags": []
      },
      "source": [
        "# Topic 1: Basic Python Programming for Data Scientists"
      ]
    },
    {
      "cell_type": "markdown",
      "metadata": {
        "id": "4s1_-b-N_JBC"
      },
      "source": [
        "# 1.8 การสร้างฟังก์ชันแบบกำหนดเอง (User-defined function)\n",
        "การเขียนโปรแกรมที่ผ่านมาจะเป็นการเขียนโปรแกรมแบบใช้ชุดคำสั่งที่บางครั้งมีการเรียกใช้งานฟังก์ชันที่มีอยู่ในไลบรารีหรือมอดูลที่มีอยู่แล้วมาใช้ในการแก้ปัญหา\n",
        "ในกรณีที่ผู้ใช้งานต้องการสร้างฟังก์ชันเพื่อต้องการแก้ปัญหาเฉพาะที่ไม่ได้มีอยู่ในไลบรารีหรือมอดูล ก็สามารถสร้างฟังก์ชันทำได้โดยกำหนดการเขียนฟังก์ชันขึ้นมาเอง ซึ่งการเขียนโปรแกรมลักษณะนี้เรียกว่า การเขียนฟังก์ชันแบบกำหนดเอง ลักษณะการเขียนฟังก์ชันอย่างง่ายในภาษาไพทอนเป็นดังนี้\n",
        "\n",
        "```\n",
        "def func_name(inputs):\n",
        "    statements\n",
        "    return output(s)\n",
        "```\n",
        "ซึ่งจะเห็นว่าส่วนประกอบของฟังก์ชันประกอบด้วยคำสำคัญ `def` ชื่อฟังก์ชัน `func_name`\n",
        "ตัวแปรข้อมูลเข้า `inputs` (จะไม่มีหรือมีได้หลายตัวแปรได้) ตัวแปรออก `output` จะมีหรือไม่มีก็ได้ หากมีเกินหนึ่งตัวแปรให้คั่นด้วย `,`\n"
      ]
    },
    {
      "cell_type": "markdown",
      "metadata": {
        "id": "vgCEETl3_11C"
      },
      "source": [
        "**ตัวอย่าง 1.8.1**\n",
        "จงเขียนฟังก์ชันด้วยภาษาไพทอนเพื่อคำนวณค่าปริมาตรของทรงกระบอก $$V=\\pi r^2 h$$ เมื่อ $r$ เป็นรัศมีและ $h$ เป็นความสูง โดยตั้งชื่อฟังก์ชันเป็น `VolumeOfCylinder`"
      ]
    },
    {
      "cell_type": "code",
      "execution_count": null,
      "metadata": {
        "id": "R3zXaedX_6Lm"
      },
      "outputs": [],
      "source": [
        "def VolumeOfCylinder(r,h):\n",
        "  import math\n",
        "  V=math.pi*r**2*h\n",
        "  return V"
      ]
    },
    {
      "cell_type": "markdown",
      "metadata": {
        "id": "SzMr-kzvh7Th"
      },
      "source": [
        "* ตัวอย่างการเรียกใช้งานแบบที่ 1"
      ]
    },
    {
      "cell_type": "code",
      "execution_count": null,
      "metadata": {
        "id": "XH4hsP1zmDxE",
        "colab": {
          "base_uri": "https://localhost:8080/"
        },
        "outputId": "835dd521-23c2-4f74-ab41-81430264a395"
      },
      "outputs": [
        {
          "output_type": "stream",
          "name": "stdout",
          "text": [
            "6283.185307179587\n"
          ]
        }
      ],
      "source": [
        "r=10\n",
        "h=20\n",
        "V=VolumeOfCylinder(r,h)\n",
        "print(V)"
      ]
    },
    {
      "cell_type": "markdown",
      "metadata": {
        "id": "TsVP8Fjfh-r_"
      },
      "source": [
        "* ตัวอย่างการเรียกใช้งานแบบที่ 2"
      ]
    },
    {
      "cell_type": "code",
      "execution_count": null,
      "metadata": {
        "id": "KE21qEvnm-by",
        "colab": {
          "base_uri": "https://localhost:8080/"
        },
        "outputId": "cfe416d8-4823-4141-9701-62566e4e0771"
      },
      "outputs": [
        {
          "output_type": "stream",
          "name": "stdout",
          "text": [
            "6283.185307179587\n"
          ]
        }
      ],
      "source": [
        "x1=10\n",
        "x2=20\n",
        "x3=VolumeOfCylinder(x1,x2)\n",
        "print(x3)"
      ]
    },
    {
      "cell_type": "markdown",
      "metadata": {
        "id": "OnliBkBBiBNe"
      },
      "source": [
        "* ตัวอย่างการเรียกใช้งานแบบที่ 3"
      ]
    },
    {
      "cell_type": "code",
      "execution_count": null,
      "metadata": {
        "id": "_-MSyjH3nN_S",
        "colab": {
          "base_uri": "https://localhost:8080/"
        },
        "outputId": "bd37b31d-5a82-45d4-b5de-707a665470ca"
      },
      "outputs": [
        {
          "output_type": "stream",
          "name": "stdout",
          "text": [
            "6283.185307179587\n"
          ]
        }
      ],
      "source": [
        "v=VolumeOfCylinder(10,20)\n",
        "print(v)"
      ]
    },
    {
      "cell_type": "markdown",
      "metadata": {
        "id": "wLXn-s_Df5hv"
      },
      "source": [
        "**ตัวอย่าง 1.8.2**\n",
        "จงสร้างฟังก์ชันแบบกำหนดเองเพื่อคำนวณค่า $$F(x,y)=x^3+3x^2y-3xy^2-y^3$$"
      ]
    },
    {
      "cell_type": "markdown",
      "metadata": {
        "id": "6aGNj6pjiH4b"
      },
      "source": [
        "ชุดคำสั่งในการสร้างฟังก์ชันเป็นดังนี้"
      ]
    },
    {
      "cell_type": "code",
      "execution_count": null,
      "metadata": {
        "id": "Deodk7tlF45C"
      },
      "outputs": [],
      "source": [
        "def Fxy(x,y):\n",
        "  F=x**3+3*x**2*y-3*x*y**2-y**3\n",
        "  return F"
      ]
    },
    {
      "cell_type": "markdown",
      "metadata": {
        "id": "gHb9vOCfiNT6"
      },
      "source": [
        "ตัวอย่างการเรียกใช้งาน"
      ]
    },
    {
      "cell_type": "code",
      "execution_count": null,
      "metadata": {
        "colab": {
          "base_uri": "https://localhost:8080/"
        },
        "id": "RaHZynDnoJbY",
        "outputId": "5a421824-8ecc-46e5-f8c3-caf6d29d7a32"
      },
      "outputs": [
        {
          "output_type": "stream",
          "name": "stdout",
          "text": [
            "13\n"
          ]
        }
      ],
      "source": [
        "x=2\n",
        "y=1\n",
        "z=Fxy(x,y)\n",
        "print(z)"
      ]
    },
    {
      "cell_type": "markdown",
      "metadata": {
        "id": "exwypt7tH9uY"
      },
      "source": [
        "## การสร้าง lambda ฟังก์ชัน\n",
        "\n",
        "Lambda function หรือ Anonymous function เป็นฟังก์ชันนิพจน์ที่แสดงถึงค่าของฟังก์ชันซึ่งสามารถสร้างและเก็บค่าไว้ในตัวแปร หรือส่งเป็นพารามิเตอร์ของฟังก์ชันอื่นได้โดยไม่จำเป็นต้องมีชื่อในการประกาศ ดังนั้นรูปแบบการประกาศของฟังก์ชันประเภทนี้จึงสั้นและเรียบง่าย ที่สำคัญมันสามารถมีได้เพียงหนึ่งคำสั่ง (Expression)และ จะเป็นค่าส่งกลับของฟังก์ชันเสมอ"
      ]
    },
    {
      "cell_type": "markdown",
      "source": [
        "**ตัวอย่าง 1.8.3** การสร้าง lambda ฟังก์ชันสำหรับการหาปริมาตรของทรงกระบอกที่ใช้สูตรการคำนวณในตัวอย่าง 1.8.1 เป็นดังนี้"
      ],
      "metadata": {
        "id": "F7Gzm0tl3n_i"
      }
    },
    {
      "cell_type": "code",
      "execution_count": null,
      "metadata": {
        "id": "Qj-lJTiPH9uZ",
        "colab": {
          "base_uri": "https://localhost:8080/"
        },
        "outputId": "6b85d720-e42b-451d-aaca-476bbc4b0928"
      },
      "outputs": [
        {
          "output_type": "stream",
          "name": "stdout",
          "text": [
            "6283.185307179587\n"
          ]
        }
      ],
      "source": [
        "import math\n",
        "Volume =lambda r,h: math.pi*r**2*h\n",
        "print(Volume(10,20))"
      ]
    },
    {
      "cell_type": "markdown",
      "metadata": {
        "id": "ArshWZHu-UJQ"
      },
      "source": [
        "# 1.9 การเขียนโปรแกรมแบบควบคุมทิศทาง\n"
      ]
    },
    {
      "cell_type": "markdown",
      "metadata": {
        "id": "A4jEp53S-kRy"
      },
      "source": [
        "## 1.9.1 การเขียนโปรแกรมแบบกำหนดเงื่อนไขการทำงาน"
      ]
    },
    {
      "cell_type": "markdown",
      "metadata": {
        "id": "cXhhNkbMEApg"
      },
      "source": [
        "สำหรับการเขียนโปรแกมภาษาไพทอนที่ผ่านมาจะเป็นการเขียนโปรแกรมเพื่อสั่งการให้แก้ปัญหาโดยไม่ได้มีการกำหนดเงื่อนไขการทำงาน แต่ในบางครั้งหากการแก้ปัญหาจำเป็นต้องมีการเลือกเงื่อนไขในการทำงาน"
      ]
    },
    {
      "cell_type": "markdown",
      "source": [
        "### คำสั่ง `if`\n",
        "**รูปแบบคำสั่ง**\n",
        "\n",
        "```\n",
        "if condition :\n",
        "  statements\n",
        "```\n",
        "เป็นคำสั่งที่กำหนดเงื่อนไขการทำงานอย่างง่าย เมื่อคอมพิวเตอร์ประมวลผลมาพบคำสั่งนี้ จะทำการตรวจสอบเงื่อนไข `condition` ว่าเงื่อนไขนี้เป็นจริงหรือไม่ ถ้าจริง จะประมวลผลคำสั่ง `statements` ทั้งหมด แต่ถ้า `condition` เป็นเท็จ คอมพิวเตอร์ก็จะข้ามคำสั่ง `statements` แล้วไปพิจารณาคำสั่งแรกที่อยู่ในบรรทัดถัดไปจาก `statements` การพิมพ์คำสั่ง`statements` ต่างๆภายใต้เงื่อนไขจะต้องย่อหน้าเข้าไปเสมอ\n",
        "ทิศทางการทำงานของโปรแกรมแสดงดังรูป\n",
        "\n",
        "<img src = 'https://drive.google.com/uc?id=1JZNWPjlfqFlbVIDhqrun9CcRRv7uvhyh' width=500>\n"
      ],
      "metadata": {
        "id": "zpR58BgbwYcT"
      }
    },
    {
      "cell_type": "markdown",
      "metadata": {
        "id": "sY-yYyGg-8ni"
      },
      "source": [
        "**ตัวอย่าง 1.9.1**\n",
        "ปกติอุปกรณ์อิเล็กทรอนิกพกพาเช่น มือถือ แท็บเล็ต สามารถทำงานได้ตามปกติในช่วงอุณหภูมิรอบข้างอยู่ระหว่าง $-20^\\circ C$ ถึง $45^\\circ C$ จงเขียนโปรแกรมให้อุปกรณ์ดังกล่าวขึ้นสถานะ\n",
        "\n",
        "\"Your device is being shut down because the ambient temperature exceeds a certain limit.\"\n",
        "\n",
        "หากอุณหภูมิรอบข้างของอุปกรณ์ดังกล่าวที่วัดได้ในที่นี้สมมุติให้เป็น `temperature` ไม่ได้อยู่ในขอบเขตที่กำหนดไว้\n"
      ]
    },
    {
      "cell_type": "markdown",
      "metadata": {
        "id": "wGVJSmP2i1JQ"
      },
      "source": [
        "ตัวอย่างการเขียนโปรแกรมเป็นดังนี้"
      ]
    },
    {
      "cell_type": "code",
      "execution_count": null,
      "metadata": {
        "id": "YQjie6VmTgK6"
      },
      "outputs": [],
      "source": [
        "temperature = 25\n",
        "if temperature < -20 or temperature > 45:\n",
        "  print (\"Your device is being shut down because the ambient temperature exceeds a certain limit.\")"
      ]
    },
    {
      "cell_type": "markdown",
      "metadata": {
        "id": "L1Nl_V6K--lE"
      },
      "source": [
        "### คำสั่ง `if-else`\n",
        "\n",
        "**รูปแบบคำสั่ง**\n",
        "\n",
        "```\n",
        "if condition :\n",
        "  statements1\n",
        "else :\n",
        "  statements2\n",
        "```\n",
        "\n",
        "เป็นคำสั่งที่กำหนดเงื่อนไขการทำงานเพียงอย่างใดอย่างหนึ่ง เมื่อคอมพิวเตอร์ประมวลผลมาพบคำสั่งนี้ จะทำการตรวจสอบเงื่อนไข `condition` ว่าเงื่อนไขนี้เป็นจริงหรือไม่ ถ้าจริง จะประมวลผลคำสั่ง `statements1` ทั้งหมด แต่ถ้า `condition` เป็นเท็จ คอมพิวเตอร์ก็จะข้ามไปประมวลผลคำสั่ง `statements2` จากนั้น เมื่อประมวลผล  `statements1` หรือ `statements2`เสร็จค่อยไปพิจารณาคำสั่งแรกที่อยู่ในบรรทัดถัดไปจาก `statements2`\n",
        "คำสั่งที่อยู่ภายใต้เงื่อนไขต่างๆ จะต้องย่อหน้าเข้าไปเสมอ\n",
        "ทิศทางการทำงานของโปรแกรมแสดงดังรูป\n",
        "\n",
        "<img src = 'https://drive.google.com/uc?id=1J_q2Hoggh2Qa03r2vUotdNKuO74A_RiT' width=600>\n"
      ]
    },
    {
      "cell_type": "markdown",
      "metadata": {
        "id": "GJ4eg-16TgK9"
      },
      "source": [
        "**ตัวอย่าง 1.9.2**\n",
        "จงเขียนโปรแแกรมสำหรับสถานการณ์สมมุติเกี่ยวกับการคัดเลือกผู้เข้าร่วมโครงการ Coding เพื่อเข้าสู่รอบ Hackathon เมื่อพิจารณาจากค่าคะแนน(%) ที่เก็บไว้ในตัวแปร `Coding_score` โดยเงื่อนไขการทำงานของโปรแกรมมีดังนี้\n",
        "\n",
        "1. ถ้าคะแนน `Coding_score` $< 50$ ให้แสดงข้อความ 'ขอแสดงความเสียใจด้วยครับ คุณไม่ได้ผ่านเข้ารอบ Hackathon ไว้โอกาสหน้าพยายามใหม่'\n",
        "2. ถ้าคะแนน `Coding_score` $\\geq 50$ ให้แสดงข้อความ 'ขอแสดงความยินดีด้วยครับ  คุณคือผู้เข้าที่ได้ผ่านเข้ารอบ Hackathon ต่อไป'"
      ]
    },
    {
      "cell_type": "code",
      "execution_count": null,
      "metadata": {
        "colab": {
          "base_uri": "https://localhost:8080/"
        },
        "id": "Jq8YjniyTgK9",
        "outputId": "db0221b4-a473-46d8-8fe4-d04a641b2b7d"
      },
      "outputs": [
        {
          "output_type": "stream",
          "name": "stdout",
          "text": [
            "ขอแสดงความยินดีด้วยครับ  คุณคือผู้ที่ได้ผ่านเข้ารอบ Hackathon ต่อไป\n"
          ]
        }
      ],
      "source": [
        "Coding_score = 51\n",
        "if Coding_score < 50:\n",
        "  print('ขอแสดงความเสียใจด้วยครับ คุณไม่ได้ผ่านเข้ารอบ Hackathon ไว้โอกาสหน้าพยายามใหม่ครับ')\n",
        "else: # Coding_score >= 50\n",
        "  print('ขอแสดงความยินดีด้วยครับ  คุณคือผู้ที่ได้ผ่านเข้ารอบ Hackathon ต่อไป')"
      ]
    },
    {
      "cell_type": "markdown",
      "metadata": {
        "id": "pN91CC7C_Cc_"
      },
      "source": [
        "### คำสั่ง `if-elif-else`\n",
        "**รูปแบบคำสั่ง**\n",
        "\n",
        "```\n",
        "if condition-1 :\n",
        "  statements-1\n",
        "elif condition-2 :\n",
        "  statements-2\n",
        "elif condition-3 :\n",
        "  statements-3\n",
        "  ...\n",
        "else :\n",
        "  statements-n\n",
        "```\n",
        "เป็นคำสั่งที่กำหนดเงื่อนไขการทำงาน $n$ เงื่อนไข เมื่อคอมพิวเตอร์ประมวลผลมาพบคำสั่งนี้ จะทำการตรวจสอบเงื่อนไข `condition-1` ว่าเงื่อนไขนี้เป็นจริงหรือไม่ ถ้าจริง จะประมวลผลคำสั่ง `statements-1` ทั้งหมด แต่ถ้า `condition-1` เป็นเท็จ คอมพิวเตอร์ก็จะข้ามทำการตรวจสอบเงื่อนไข `condition-2` ว่าเงื่อนไขนี้เป็นจริงหรือไม่ ถ้าจริง จะประมวลผลคำสั่ง `statements-2` ทั้งหมด แต่ถ้า `condition-2` เป็นเท็จ\n",
        "ก็จะไปพิจารณาเงื่อนไขที่ 3 แบบนี้ไปเรื่อยๆ หากไม่สอดคล้องเงื่อนไขที่  1 ถึง เงื่อนไข $n-1$ เลยจะประมวลผล  `statements-n` จากนั้น ค่อยไปพิจารณาคำสั่งแรกที่อยู่ในบรรทัดถัดไปจาก `statements-n`\n",
        "\n",
        "**หมายเหตุ** คำสั่งภายใต้เงือนไขต่างๆ จะต้องย่อหน้าเข้าไปเสมอ\n",
        "\n",
        "ทิศทางการทำงานของโปรแกรมแสดงดังรูป\n",
        "\n",
        "<img src = 'https://drive.google.com/uc?id=1JaPmCWH1oMd_XbZGM_ViKn0QoNgHDpdr' width=600>\n"
      ]
    },
    {
      "cell_type": "markdown",
      "metadata": {
        "id": "AYDoxBiYFAxU"
      },
      "source": [
        "**ตัวอย่าง 1.9.3**\n",
        "จงเขียนโปรแกรมเพื่อคำนวณค่า\n",
        "$f(x,y) =\n",
        "\\begin{cases}\n",
        "    f(x,y) = x+y+2,x < 0, y < 0,\\\\\n",
        "    f(x,y) = \\pi x^3 +y^2,x < 0, y \\geq 0,\\\\\n",
        "    f(x,y) = \\sin xy^2,x \\geq 0, y < 0,\\\\\n",
        "    f(x,y) = e^{-x^2-y^2+2}-1,x \\geq 0, y \\geq 0,\\\\\n",
        "\\end{cases}\n",
        "$"
      ]
    },
    {
      "cell_type": "markdown",
      "metadata": {
        "id": "vsr7LZTDpcLX"
      },
      "source": [
        "ตัวอย่างโปรแกรมของการคำนวณค่าฟังก์ชันที่กำหนดให้เป็นดังนี้"
      ]
    },
    {
      "cell_type": "code",
      "execution_count": null,
      "metadata": {
        "id": "NvKc7iI6P9Il"
      },
      "outputs": [],
      "source": [
        "def fxy(x,y):\n",
        "  import math\n",
        "  if x<0 and y<0:\n",
        "    z=x+y+2\n",
        "  elif x<0 and y>=0:\n",
        "    z=math.pi*x**3+y**2\n",
        "  elif x>=0 and y<0:\n",
        "    z=math.sin(x*y**2)\n",
        "  else:#x>=0 and y>= 0\n",
        "    z=math.exp(-x**2-y**2+2)-1\n",
        "  return z"
      ]
    },
    {
      "cell_type": "markdown",
      "metadata": {
        "id": "j4XFKh5ppml8"
      },
      "source": [
        "ตัวอย่างการเรียกใช้งานเป็นดังนี้"
      ]
    },
    {
      "cell_type": "code",
      "execution_count": null,
      "metadata": {
        "colab": {
          "base_uri": "https://localhost:8080/"
        },
        "id": "UoIn6qeC3Ak-",
        "outputId": "1d98cdd8-b0ba-4c67-d498-966543c81eed"
      },
      "outputs": [
        {
          "output_type": "stream",
          "name": "stdout",
          "text": [
            "f(-1.000000,5.000000) = 21.858407\n"
          ]
        }
      ],
      "source": [
        "x=-1\n",
        "y=5\n",
        "z=fxy(x,y)\n",
        "print('f({:f},{:f}) = {:f}'.format(x,y,z))"
      ]
    },
    {
      "cell_type": "markdown",
      "metadata": {
        "id": "-2mGew8wTgK-"
      },
      "source": [
        "**ตัวอย่าง 1.9.4**\n",
        "พิจารณาช่วงปีที่เกิด(ค.ศ.)และชื่อรุ่นของช่วงอายุของประชากรโลกดังตารางต่อไปนี้\n",
        "\n",
        "| Generation Name          | Year interval |\n",
        "|--------------------------|---------------|\n",
        "|   Lost Generation        |   1883-1900   |\n",
        "|   Greatest Generation    |   1901-1927   |\n",
        "|       Silent Generation  |   1928-1945   |\n",
        "|  Baby Boomer Generation  |   1946-1964   |\n",
        "|       Generation X       |   1965-1980   |\n",
        "|       Generation Y       |   1981-1996   |\n",
        "|       Generation Z       |   1997-2012   |\n",
        "|       Generation Alpha   |   2013-2025   |\n",
        "\n",
        "จงเขียนโปรแกรมเพื่อให้ผู้ใช้งานป้อนค่าปีที่เกิด(ค.ศ.) `birth_year` และจัดเก็บให้เป็นจำนวนเต็ม จากนั้น ให้แสดงข้อความว่า รุ่นอายุของผู้ใช้งานคือรุ่นอะไร ตัวอย่างเช่น\n",
        "\n",
        "You was born in 2000. So, you are in Generation Z."
      ]
    },
    {
      "cell_type": "code",
      "execution_count": null,
      "metadata": {
        "colab": {
          "base_uri": "https://localhost:8080/"
        },
        "id": "fr9oHFnVTgK-",
        "outputId": "0aa105de-917e-493a-9027-4c809b4daf2e"
      },
      "outputs": [
        {
          "output_type": "stream",
          "name": "stdout",
          "text": [
            "You was born in 2023. So, you are in the Generation Alpha.\n"
          ]
        }
      ],
      "source": [
        "birth_year=2023\n",
        "if 1883<=birth_year<=1900:\n",
        "  print('You was born in {}. So, you are in the Lost Generation.'.format(birth_year))\n",
        "elif 1901<=birth_year<=1927:\n",
        "  print('You was born in {}. So, you are in the Greatest Generation.'.format(birth_year))\n",
        "elif 1928<=birth_year<=1945:\n",
        "  print('You was born in {}. So, you are in the Silent Generation.'.format(birth_year))\n",
        "elif  1946<=birth_year<=1964:\n",
        "  print('You was born in {}. So, you are in the Baby Boomer Generation.'.format(birth_year))\n",
        "elif  1965<=birth_year<=1980:\n",
        "   print('You was born in {}. So, you are in the Generation X.'.format(birth_year))\n",
        "elif  1981<=birth_year<=1996:\n",
        "  print('You was born in {}. So, you are in the Generation Y.'.format(birth_year))\n",
        "elif  1997<=birth_year<=2012:\n",
        "  print('You was born in {}. So, you are in the Generation Z.'.format(birth_year))\n",
        "elif  2013<=birth_year<=2025:\n",
        "  print('You was born in {}. So, you are in the Generation Alpha.'.format(birth_year))\n",
        "else:\n",
        "  print('You was born in {}. So, you are undefined generation!!!.'.format(birth_year))"
      ]
    },
    {
      "cell_type": "markdown",
      "metadata": {
        "id": "aCPNh4Jm-uAv"
      },
      "source": [
        "## 1.9.2 การเขียนโปรแกรมแบบทำซ้ำ"
      ]
    },
    {
      "cell_type": "markdown",
      "metadata": {
        "id": "bbAk0yXJ_RXe"
      },
      "source": [
        "### คำสั่ง `while`\n",
        "**รูปแบบของคำสั่ง**\n",
        "```\n",
        "while condition :\n",
        "  statements\n",
        "```\n",
        "เป็นคำสั่งที่ทำให้เกิดการทำงานแบบทำซ้ำ เมื่อคอมพิวเตอร์ประมวลผลคำสั่งนี้จะตรวจสอบเงื่อนไข `condition` ก่อนว่าเป็นจริงหรือไม่ ถ้าเป็นจริงจะประมวลผลคำสั่ง `statements` ทั้งหมด จากนั้นจะย้อนกลับไปตรวจสอบเงื่อนไข `condition` อีกครั้ง ถ้ายังคงเป็นจริงก็จะประมวลผลคำสั่งอีกครั้ง ทำแบบนี้ไปเรื่อยๆ จนกว่า เงื่อนไข `condition` จะเป็นเท็จ จึงหยุดการทำซ้ำนี้ แล้วค่อยไปประมวลผลคำสั่งที่อยู่ถัดจากนี้ คำสั่งที่อยู่ภายใต้การทำซ้ำแบบ `while` จะต้องเขียนย่อหน้าเข้าไปเสมอ\n",
        "ทิศทางการทำงานภายใต้คำสั่ง `while` เป็นดังรูป\n",
        "\n",
        "<img src = 'https://drive.google.com/uc?id=1Jbk9EkBQGmAWgGIUTxXqWV5ufZqctnPD' width=400>\n"
      ]
    },
    {
      "cell_type": "markdown",
      "metadata": {
        "id": "j6FHNAGJTgK_"
      },
      "source": [
        "**ตัวอย่าง 1.9.5**\n",
        "จงเขียนโปรแกรมด้วยภาษาไพทอนโดยใช้ While loop เพื่อหาผลบวกดังต่อไปนี้\n",
        "$$1\\cdot2 + 2\\cdot 3 + 3\\cdot 4 + ... + n\\cdot(n+1)$$\n"
      ]
    },
    {
      "cell_type": "markdown",
      "metadata": {
        "id": "bC3NPyXZy6Oi"
      },
      "source": [
        "ตัวอย่างโปรแกรมเป็นดังนี้"
      ]
    },
    {
      "cell_type": "code",
      "execution_count": null,
      "metadata": {
        "colab": {
          "base_uri": "https://localhost:8080/"
        },
        "id": "KS4_dckZTgLA",
        "outputId": "e54e60df-cbb0-4519-d31c-2dde6ce25b64"
      },
      "outputs": [
        {
          "output_type": "stream",
          "name": "stdout",
          "text": [
            "1*2 + 2*3 + 3*4 + 4*5 + 5*6 + 6*7 + 7*8 + 8*9 + 9*10 + 10*11 + 11*12 + 12*13 + 13*14 + 14*15 + 15*16 + 16*17 + 17*18 + 18*19 + 19*20 + 20*21= 3080\n"
          ]
        }
      ],
      "source": [
        "n=20\n",
        "sum=0\n",
        "i=1\n",
        "while i<=n:\n",
        "  sum=sum+i*(i+1)\n",
        "  if i<n:\n",
        "    print('{}*{} + '.format(i,i+1),end='')\n",
        "  else:\n",
        "    print('{}*{}'.format(i,i+1),end='')\n",
        "  i=i+1\n",
        "print('= {}'.format(sum))"
      ]
    },
    {
      "cell_type": "markdown",
      "metadata": {
        "id": "IcjbHoG1ZD_z"
      },
      "source": [
        "**ตัวอย่าง 1.9.6**\n",
        "จงเขียนโปรแกรมด้วยคำสั่ง `while` เพื่อคำนวณค่าลำดับของฟิโบนักชี $F_{n} = F_{n-1} + F_{n-2}$ เมื่อกำหนดให้ผู้ใช้งานป้อนค่า $F_{0}$ และ $F_{1}$ และ $n$ จากแป้นพิมพ์\n"
      ]
    },
    {
      "cell_type": "markdown",
      "metadata": {
        "id": "8M7z7Tl0ZD_7"
      },
      "source": [
        "ตัวอย่างโปรแกรมเป็นดังนี้"
      ]
    },
    {
      "cell_type": "code",
      "execution_count": null,
      "metadata": {
        "colab": {
          "base_uri": "https://localhost:8080/"
        },
        "id": "O8JTcfIRZD_7",
        "outputId": "27353533-6a4e-49d9-fe5a-0b545c1737a3"
      },
      "outputs": [
        {
          "output_type": "stream",
          "name": "stdout",
          "text": [
            "Input F[0] = 1\n",
            "Input F[1] = 2\n",
            "Input n = 20\n",
            "F[2] = 3\n",
            "F[3] = 5\n",
            "F[4] = 8\n",
            "F[5] = 13\n",
            "F[6] = 21\n",
            "F[7] = 34\n",
            "F[8] = 55\n",
            "F[9] = 89\n",
            "F[10] = 144\n",
            "F[11] = 233\n",
            "F[12] = 377\n",
            "F[13] = 610\n",
            "F[14] = 987\n",
            "F[15] = 1597\n",
            "F[16] = 2584\n",
            "F[17] = 4181\n",
            "F[18] = 6765\n",
            "F[19] = 10946\n",
            "F[20] = 17711\n"
          ]
        }
      ],
      "source": [
        "import numpy as np\n",
        "F0=int(input('Input F[0] = '))\n",
        "F1=int(input('Input F[1] = '))\n",
        "n=int(input('Input n = '))\n",
        "F=np.zeros([n+1,1])\n",
        "F[0] = F0\n",
        "F[1] = F1\n",
        "i=2\n",
        "while i<=n:\n",
        "  F[i]=F[i-1]+F[i-2]\n",
        "  print('F[{}] = {}'.format(i,int(F[i])))\n",
        "  i=i+1"
      ]
    },
    {
      "cell_type": "markdown",
      "metadata": {
        "id": "aL9C2sQ7_YjK"
      },
      "source": [
        "### คำสั่ง `for`\n",
        "**รูปแบบที่ 1**\n",
        "\n",
        "```\n",
        "for iterator in sequence:\n",
        "  statements\n",
        "```\n",
        "เมื่อ `iterator` ตัวแปรที่ใช้ในการทำซ้ำ `sequence` ตัวแปรที่มีลำดับข้อมูล\n",
        "\n",
        "**รูปแบบที่ 2: กรณีใช้ range**\n",
        "```\n",
        "for index in range(bound) :\n",
        "  statements\n",
        "```\n",
        "เมื่อ `index` เป็น ดัชนีของรอบการทำซ้ำ `bound` เป็นขอบเขตของการทำซ้ำ\n",
        "รูปแบบการกำหนด `range` เพิ่มเติมเป็นดังนี้\n",
        "```\n",
        "range(start,stop,step)\n",
        "```\n",
        "เมื่อ `start` เป็นดัชนีเริ่มต้น `stop` เป็นดัชนีสุดท้าย `step` เป็นระยะห่าง\n",
        "\n",
        "คำสั่ง `for` เป็นคำสั่งที่ทำให้เกิดการทำงานแบบทำซ้ำอีกหนึ่งรูปแบบ เมื่อคอมพิวเตอร์ประมวลผลคำสั่งนี้ จะทราบจำนวนรอบที่แน่นอนโดยจะมีดัชนีของรอบเป็นตัวกำหนดรอบการทำซ้ำ แต่ละรอบการทำซ้ำ คอมพิวเตอร์จะประมวลผลคำสั่ง `statements` ทุกรอบ เมื่อเสร็จแล้วสั่งไปประมวลผลคำสั่งที่อยู่หลังคำสั่งนี้ คำสั่งทั้งหมดที่อยู่ภายใต้ `for` จะต้องย่อหน้าเข้าไปเสมอ\n",
        "ทิศทางการทำงานภายใต้คำสั่ง `for` แสดงดังรูป\n",
        "\n",
        "<img src = 'https://drive.google.com/uc?id=1Jbym-OVowPCq2Fw0TVqtTkC_g2B0FLE6' width=500>\n"
      ]
    },
    {
      "cell_type": "markdown",
      "metadata": {
        "id": "ATaFqv96-SI8"
      },
      "source": [
        "**ตัวอย่าง 1.9.7**\n",
        "จงเขียนโปรแกรมด้วยภาษาไพทอนโดยใช้ for loop เพื่อแสดงรายชื่อบุคคลที่รวยที่สุดในโลก 5 อันดับแรกดังนี้\n",
        "\n",
        "Elon Musk, Bernard Arnault, Jeff Bezos, Bill Gates, Larry Ellison\n"
      ]
    },
    {
      "cell_type": "code",
      "source": [
        "name_list=['Elon Musk','Bernard Arnault','Jeff Bezos','Bill Gates','Larry Ellison']"
      ],
      "metadata": {
        "id": "6xNuezvac39c"
      },
      "execution_count": null,
      "outputs": []
    },
    {
      "cell_type": "markdown",
      "source": [
        "**กรณีใช้คำสั่ง `for` แบบที่ 1**"
      ],
      "metadata": {
        "id": "QtyHC1Asd_4a"
      }
    },
    {
      "cell_type": "code",
      "source": [
        "for name in name_list:\n",
        "  print(name)"
      ],
      "metadata": {
        "colab": {
          "base_uri": "https://localhost:8080/"
        },
        "id": "HqzwkY22dGDe",
        "outputId": "331ee3c0-a365-4443-cf54-79992639cc33"
      },
      "execution_count": null,
      "outputs": [
        {
          "output_type": "stream",
          "name": "stdout",
          "text": [
            "Elon Musk\n",
            "Bernard Arnault\n",
            "Jeff Bezos\n",
            "Bill Gates\n",
            "Larry Ellison\n"
          ]
        }
      ]
    },
    {
      "cell_type": "markdown",
      "source": [
        "**กรณีใช้คำสั่ง `for` แบบที่ 2**"
      ],
      "metadata": {
        "id": "c7JZvy6eeGeI"
      }
    },
    {
      "cell_type": "code",
      "execution_count": null,
      "metadata": {
        "colab": {
          "base_uri": "https://localhost:8080/"
        },
        "id": "E4ItzbNATgLC",
        "outputId": "ef67d921-0fda-4f40-af4d-375f819336df"
      },
      "outputs": [
        {
          "output_type": "stream",
          "name": "stdout",
          "text": [
            "1. Elon Musk\n",
            "2. Bernard Arnault\n",
            "3. Jeff Bezos\n",
            "4. Bill Gates\n",
            "5. Larry Ellison\n"
          ]
        }
      ],
      "source": [
        "Ndat=len(name_list)\n",
        "for name in range(0,Ndat):\n",
        "  print('{}. {}'.format(name+1,name_list[name]))"
      ]
    },
    {
      "cell_type": "markdown",
      "source": [
        "**ตัวอย่าง 1.9.8** นักเตะที่มีค่าตัวการย้ายทีมสูงที่สุดในโลกตลอดกาล 10 อันดับแรกเป็นดังนี้\n",
        "1. เนย์มาร์ : 222 ล้านยูโร\n",
        "2. คิลิยัน เอ็มบัปเป้ : 180 ล้านยูโร\n",
        "3. ฟิลิปเป้ คูตินโญ่ : 145 ล้านยูโร\n",
        "4. เจา เฟลิกซ์ : 126 ล้านยูโร\n",
        "5. เอ็นโซ่ เฟอร์นานเดซ : 121 ล้านยูโร\n",
        "6. อองตวน กรีซมันน์ : 120 ล้านยูโร\n",
        "7. แจ็ค กรีลิช : 117 ล้านยูโร\n",
        "8. ดีแคลน ไรซ์ : 117 ล้านยูโร\n",
        "9. มอยเซส ไกเซโด : 117 ล้านยูโร\n",
        "10. โรเมลู ลูกากู : 115 ล้านยูโร\n",
        "\n",
        "จงเขียนโปรแกรมหาค่าเฉลี่ยของค่าตัวของนักเตะในหน่วยล้านยูโรโดยใช้คำสั่ง `for` (แสดงทศนิยม 4 ตำแหน่ง)"
      ],
      "metadata": {
        "id": "okg-PMbRpDd7"
      }
    },
    {
      "cell_type": "code",
      "source": [
        "import numpy as np\n",
        "player_transfer=np.array([222,180,145,126,121,120,117,117,117,115])\n",
        "sumval=0\n",
        "for value in player_transfer:\n",
        "  sumval=sumval+value\n",
        "meanval=sumval/len(player_transfer)\n",
        "print('The average of player transfer is {:.4f} million euros'.format(meanval))"
      ],
      "metadata": {
        "colab": {
          "base_uri": "https://localhost:8080/"
        },
        "id": "J6w7ZJC6qj40",
        "outputId": "1bcc0671-4775-48c4-d348-c77d49a72534"
      },
      "execution_count": null,
      "outputs": [
        {
          "output_type": "stream",
          "name": "stdout",
          "text": [
            "The average of player transfer is 138.0000 million euros\n"
          ]
        }
      ]
    },
    {
      "cell_type": "markdown",
      "metadata": {
        "id": "B3bn2bPWTgLC"
      },
      "source": [
        "**ตัวอย่าง 1.9.9**\n",
        "จงเขียนโปรแกรมด้วยภาษาไพทอนเพื่อคำนวณค่าลำดับของฟิโบนักชีที่กำหนดไว้ในตัวอย่าง 1.9.6 ด้วยคำสั่ง `for`\n"
      ]
    },
    {
      "cell_type": "markdown",
      "metadata": {
        "id": "3Dn0A53Sy0bk"
      },
      "source": [
        "ตัวอย่างโปรแกรมเป็นดังนี้"
      ]
    },
    {
      "cell_type": "code",
      "execution_count": null,
      "metadata": {
        "colab": {
          "base_uri": "https://localhost:8080/"
        },
        "id": "m5xiKWnbTgLD",
        "outputId": "d03ef786-1182-4aae-9892-11b9c31c9b7d"
      },
      "outputs": [
        {
          "output_type": "stream",
          "name": "stdout",
          "text": [
            "Input F[0] = 1\n",
            "Input F[1] = 2\n",
            "Input n = 20\n",
            "F[2] = 3\n",
            "F[3] = 5\n",
            "F[4] = 8\n",
            "F[5] = 13\n",
            "F[6] = 21\n",
            "F[7] = 34\n",
            "F[8] = 55\n",
            "F[9] = 89\n",
            "F[10] = 144\n",
            "F[11] = 233\n",
            "F[12] = 377\n",
            "F[13] = 610\n",
            "F[14] = 987\n",
            "F[15] = 1597\n",
            "F[16] = 2584\n",
            "F[17] = 4181\n",
            "F[18] = 6765\n",
            "F[19] = 10946\n",
            "F[20] = 17711\n"
          ]
        }
      ],
      "source": [
        "import numpy as np\n",
        "F0=int(input('Input F[0] = '))\n",
        "F1=int(input('Input F[1] = '))\n",
        "n=int(input('Input n = '))\n",
        "F=np.zeros([n+1,1])\n",
        "F[0] = F0\n",
        "F[1] = F1\n",
        "for i in range(2,n+1):\n",
        "  F[i]=F[i-1]+F[i-2]\n",
        "  print('F[{}] = {}'.format(i,int(F[i])))"
      ]
    },
    {
      "cell_type": "markdown",
      "metadata": {
        "id": "S3kosNeuQV8u"
      },
      "source": [
        "## 1.9.3 การประยุกต์การเขียนโปรแกรมแบบกำหนดเงื่อนไขและแบบทำซ้ำร่วมกัน\n",
        "ตัวอย่างต่อไปนี้แสดงการประยุกต์ใช้การเขียนโปรแกรมแบบควบคุมทิศทางแบบต่างๆ ร่วมกันเพื่อแก้ปัญหาในสถานการณ์ปัญหาต่างๆ"
      ]
    },
    {
      "cell_type": "markdown",
      "metadata": {
        "id": "Mz3q_yztqJam"
      },
      "source": [
        "**ตัวอย่าง 1.9.10**\n",
        "จงเขียนโปรแกรมเพื่อหาค่า $x,y,z\\in\\mathrm{Z}^{+}$ ทั้งหมดที่สอดคล้องกับสมการ\n",
        "$$x^2+y^2=z^2$$ โดยที่ $1 \\leq x, y, z \\leq n$ เมื่อ $n\\in\\mathrm{Z}^{+}$"
      ]
    },
    {
      "cell_type": "markdown",
      "metadata": {
        "id": "Wa_Cm8wPynUV"
      },
      "source": [
        "ตัวอย่างโปรแกรมเป็นดังนี้"
      ]
    },
    {
      "cell_type": "code",
      "execution_count": null,
      "metadata": {
        "colab": {
          "base_uri": "https://localhost:8080/"
        },
        "id": "QH5KRPnUuhDL",
        "outputId": "54b8f1d4-20cc-4b10-bd4d-ca0d8fb1ab16"
      },
      "outputs": [
        {
          "output_type": "stream",
          "name": "stdout",
          "text": [
            "This program is used to search integer x,y,z that x^2+y^2=z^2, 1<=x,y,z<=n\n",
            "where n is positive integer.\n",
            "Input n = 100\n",
            "สำหรับ n = 100 จะได้ค่า x,y,z ดังนี้\n",
            "1. x = 3, y = 4, z = 5\n",
            "2. x = 4, y = 3, z = 5\n",
            "3. x = 5, y = 12, z = 13\n",
            "4. x = 6, y = 8, z = 10\n",
            "5. x = 7, y = 24, z = 25\n",
            "6. x = 8, y = 6, z = 10\n",
            "7. x = 8, y = 15, z = 17\n",
            "8. x = 9, y = 12, z = 15\n",
            "9. x = 9, y = 40, z = 41\n",
            "10. x = 10, y = 24, z = 26\n",
            "11. x = 11, y = 60, z = 61\n",
            "12. x = 12, y = 5, z = 13\n",
            "13. x = 12, y = 9, z = 15\n",
            "14. x = 12, y = 16, z = 20\n",
            "15. x = 12, y = 35, z = 37\n",
            "16. x = 13, y = 84, z = 85\n",
            "17. x = 14, y = 48, z = 50\n",
            "18. x = 15, y = 8, z = 17\n",
            "19. x = 15, y = 20, z = 25\n",
            "20. x = 15, y = 36, z = 39\n",
            "21. x = 16, y = 12, z = 20\n",
            "22. x = 16, y = 30, z = 34\n",
            "23. x = 16, y = 63, z = 65\n",
            "24. x = 18, y = 24, z = 30\n",
            "25. x = 18, y = 80, z = 82\n",
            "26. x = 20, y = 15, z = 25\n",
            "27. x = 20, y = 21, z = 29\n",
            "28. x = 20, y = 48, z = 52\n",
            "29. x = 21, y = 20, z = 29\n",
            "30. x = 21, y = 28, z = 35\n",
            "31. x = 21, y = 72, z = 75\n",
            "32. x = 24, y = 7, z = 25\n",
            "33. x = 24, y = 10, z = 26\n",
            "34. x = 24, y = 18, z = 30\n",
            "35. x = 24, y = 32, z = 40\n",
            "36. x = 24, y = 45, z = 51\n",
            "37. x = 24, y = 70, z = 74\n",
            "38. x = 25, y = 60, z = 65\n",
            "39. x = 27, y = 36, z = 45\n",
            "40. x = 28, y = 21, z = 35\n",
            "41. x = 28, y = 45, z = 53\n",
            "42. x = 28, y = 96, z = 100\n",
            "43. x = 30, y = 16, z = 34\n",
            "44. x = 30, y = 40, z = 50\n",
            "45. x = 30, y = 72, z = 78\n",
            "46. x = 32, y = 24, z = 40\n",
            "47. x = 32, y = 60, z = 68\n",
            "48. x = 33, y = 44, z = 55\n",
            "49. x = 33, y = 56, z = 65\n",
            "50. x = 35, y = 12, z = 37\n",
            "51. x = 35, y = 84, z = 91\n",
            "52. x = 36, y = 15, z = 39\n",
            "53. x = 36, y = 27, z = 45\n",
            "54. x = 36, y = 48, z = 60\n",
            "55. x = 36, y = 77, z = 85\n",
            "56. x = 39, y = 52, z = 65\n",
            "57. x = 39, y = 80, z = 89\n",
            "58. x = 40, y = 9, z = 41\n",
            "59. x = 40, y = 30, z = 50\n",
            "60. x = 40, y = 42, z = 58\n",
            "61. x = 40, y = 75, z = 85\n",
            "62. x = 42, y = 40, z = 58\n",
            "63. x = 42, y = 56, z = 70\n",
            "64. x = 44, y = 33, z = 55\n",
            "65. x = 45, y = 24, z = 51\n",
            "66. x = 45, y = 28, z = 53\n",
            "67. x = 45, y = 60, z = 75\n",
            "68. x = 48, y = 14, z = 50\n",
            "69. x = 48, y = 20, z = 52\n",
            "70. x = 48, y = 36, z = 60\n",
            "71. x = 48, y = 55, z = 73\n",
            "72. x = 48, y = 64, z = 80\n",
            "73. x = 51, y = 68, z = 85\n",
            "74. x = 52, y = 39, z = 65\n",
            "75. x = 54, y = 72, z = 90\n",
            "76. x = 55, y = 48, z = 73\n",
            "77. x = 56, y = 33, z = 65\n",
            "78. x = 56, y = 42, z = 70\n",
            "79. x = 57, y = 76, z = 95\n",
            "80. x = 60, y = 11, z = 61\n",
            "81. x = 60, y = 25, z = 65\n",
            "82. x = 60, y = 32, z = 68\n",
            "83. x = 60, y = 45, z = 75\n",
            "84. x = 60, y = 63, z = 87\n",
            "85. x = 60, y = 80, z = 100\n",
            "86. x = 63, y = 16, z = 65\n",
            "87. x = 63, y = 60, z = 87\n",
            "88. x = 64, y = 48, z = 80\n",
            "89. x = 65, y = 72, z = 97\n",
            "90. x = 68, y = 51, z = 85\n",
            "91. x = 70, y = 24, z = 74\n",
            "92. x = 72, y = 21, z = 75\n",
            "93. x = 72, y = 30, z = 78\n",
            "94. x = 72, y = 54, z = 90\n",
            "95. x = 72, y = 65, z = 97\n",
            "96. x = 75, y = 40, z = 85\n",
            "97. x = 76, y = 57, z = 95\n",
            "98. x = 77, y = 36, z = 85\n",
            "99. x = 80, y = 18, z = 82\n",
            "100. x = 80, y = 39, z = 89\n",
            "101. x = 80, y = 60, z = 100\n",
            "102. x = 84, y = 13, z = 85\n",
            "103. x = 84, y = 35, z = 91\n",
            "104. x = 96, y = 28, z = 100\n"
          ]
        }
      ],
      "source": [
        "print('This program is used to search integer x,y,z that x^2+y^2=z^2, 1<=x,y,z<=n')\n",
        "print('where n is positive integer.')\n",
        "n=int(input('Input n = '))\n",
        "print('สำหรับ n = {} จะได้ค่า x,y,z ดังนี้'.format(n))\n",
        "count = 0\n",
        "for x in range(1,n+1):\n",
        "  for y in range(1,n+1):\n",
        "    for z in range(1,n+1):\n",
        "     if x**2+y**2==z**2:\n",
        "        count += 1 #count = count + 1\n",
        "        print('{}. x = {}, y = {}, z = {}'.format(count,x,y,z))\n",
        "if count==0:\n",
        "  print('    >>ไม่มี x,y,z ที่สอดคล้อง<<')"
      ]
    },
    {
      "cell_type": "markdown",
      "metadata": {
        "id": "b1TZzOq0TgLD"
      },
      "source": [
        "**ตัวอย่าง 1.9.11**\n",
        "จงเขียนโปรแกรมให้มีการทำงานดังนี้\n",
        "1. ป้อนค่าจำนวนแถวและหลักของเมทริกซ์ $A$\n",
        "2. ป้อนค่าจุดปลายของช่วง $I=[a,b]$\n",
        "3.  สร้างเมทริกซ์ $A = [a_{ij}]_{m\\times n}$ โดยที่ $a_{ij}$ แต่ละตัวเป็นจำนวนที่ได้จากการสุ่มแบบเอกรูป(uniform)ในช่วง $[a,b]$\n",
        "3. นับจำนวนสมาชิกที่มีค่ามากกว่า $0$ สมากชิกที่มีค่าเท่ากับ $0$ และสมาชิกที่มีค่าน้อยกว่า $0$ จากนั้นแสดงจำนวนที่นับได้แต่ละค่า"
      ]
    },
    {
      "cell_type": "markdown",
      "metadata": {
        "id": "KkSHk9-FyzPg"
      },
      "source": [
        "ตัวอย่างโปรแกรมเป็นดังนี้"
      ]
    },
    {
      "cell_type": "code",
      "execution_count": null,
      "metadata": {
        "colab": {
          "base_uri": "https://localhost:8080/"
        },
        "id": "o0adt8a-TgLD",
        "outputId": "9bcd6dca-668a-4518-f73e-9703d6242c06"
      },
      "outputs": [
        {
          "output_type": "stream",
          "name": "stdout",
          "text": [
            "Input number of rows of matrix m = 5\n",
            "Input number of colums of matrix n = 4\n",
            "Input the left endpoint of interval a = -5\n",
            "Input the right endpoint of interval b = 10\n",
            "The generated matrix is A = \n",
            "[[ 7.65710105 -1.5069686  -1.37746202 -0.4741141 ]\n",
            " [-4.54543942 -3.86626769  4.800022   -4.10684617]\n",
            " [-4.23414526  8.99577942 -4.90833002  2.69836786]\n",
            " [-0.08362051 -1.34591065  4.65803423  0.15840846]\n",
            " [ 2.68462141 -1.5393455   7.11364829  1.15057371]]\n",
            "Results of counting member in A:\n",
            "-Number of members of A that less than zero is 11 member(s).\n",
            "-Number of members of A that equal to zero is 0 member(s).\n",
            "-Number of members of A that greater than zero is 9 member(s).\n"
          ]
        }
      ],
      "source": [
        "import numpy as np\n",
        "m=int(input('Input number of rows of matrix m = ')) # Number of rows of matrix\n",
        "n=int(input('Input number of colums of matrix n = ')) # Number of columns of matrix\n",
        "a=float(input('Input the left endpoint of interval a = '))\n",
        "b=float(input('Input the right endpoint of interval b = '))\n",
        "A=a+(b-a)*np.random.rand(m,n)\n",
        "print('The generated matrix is A = ')\n",
        "print(A)\n",
        "count1=0\n",
        "count2=0\n",
        "count3=0\n",
        "for i in range(m):\n",
        "  for j in range(n):\n",
        "    if A[i,j]<0:\n",
        "      count1+=1\n",
        "    elif A[i,j]==0:\n",
        "      count2+=1\n",
        "    else:\n",
        "      count3+=1\n",
        "print('Results of counting member in A:')\n",
        "print('-Number of members of A that less than zero is {} member(s).'.format(count1))\n",
        "print('-Number of members of A that equal to zero is {} member(s).'.format(count2))\n",
        "print('-Number of members of A that greater than zero is {} member(s).'.format(count3))"
      ]
    },
    {
      "cell_type": "markdown",
      "metadata": {
        "id": "--_A5g6oXfgt"
      },
      "source": [
        "# เอกสารอ้างอิง\n",
        "1. Python Language. https://www.python.org\n",
        "2. lambda function: http://marcuscode.com/lang/python/lambda-functions\n",
        "3. Generation: https://en.wikipedia.org/wiki/Generation#:~:text=A%20generation%20refers%20to%20all,and%20begin%20to%20have%20children.%22\n",
        "4. The 100 most expensive football transfers of all time: https://www.goal.com/en/news/100-most-expensive-football-transfers-all-time/ikr3oojohla51fh9adq3qkwpu\n"
      ]
    },
    {
      "cell_type": "markdown",
      "metadata": {
        "id": "smzse4qZMJYs"
      },
      "source": [
        "<img src = 'https://drive.google.com/uc?id=18qUXmnQK3FIPfMCm8m0aKf1Saam6ezdJ'>"
      ]
    },
    {
      "cell_type": "markdown",
      "metadata": {
        "id": "rE16rIVtMJYs"
      },
      "source": [
        "<img src = 'https://drive.google.com/uc?id=192V5NZG8GXDFzYQIxTRJCSmiBUkc2xys'>"
      ]
    }
  ],
  "metadata": {
    "colab": {
      "provenance": []
    },
    "kernelspec": {
      "display_name": "Python 3 (ipykernel)",
      "language": "python",
      "name": "python3"
    },
    "language_info": {
      "codemirror_mode": {
        "name": "ipython",
        "version": 3
      },
      "file_extension": ".py",
      "mimetype": "text/x-python",
      "name": "python",
      "nbconvert_exporter": "python",
      "pygments_lexer": "ipython3",
      "version": "3.11.0"
    }
  },
  "nbformat": 4,
  "nbformat_minor": 0
}