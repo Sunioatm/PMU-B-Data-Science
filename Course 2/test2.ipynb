{
 "cells": [
  {
   "cell_type": "code",
   "execution_count": 3,
   "metadata": {},
   "outputs": [
    {
     "name": "stdout",
     "output_type": "stream",
     "text": [
      "9\n"
     ]
    }
   ],
   "source": [
    "import math\n",
    "i = 0\n",
    "while True:\n",
    "  sum = 0\n",
    "  for n in range(i):\n",
    "    sum += (1/(2*n + 1))*((-1)**n)\n",
    "  if (abs((math.pi/4) - (sum)) < 0.03 ):\n",
    "    break\n",
    "  i += 1\n",
    "\n",
    "print(i)"
   ]
  },
  {
   "cell_type": "code",
   "execution_count": null,
   "metadata": {},
   "outputs": [],
   "source": [
    "import math; i = 0; while True: sum = 0; for n in range(i): sum += (1 / (2 * n + 1)) * ((-1) ** n); if abs((math.pi / 4) - sum) < 0.03: break; i += 1; print(i)\n"
   ]
  },
  {
   "cell_type": "code",
   "execution_count": 12,
   "metadata": {},
   "outputs": [
    {
     "name": "stdout",
     "output_type": "stream",
     "text": [
      "<class 'pandas.core.frame.DataFrame'>\n",
      "RangeIndex: 4 entries, 0 to 3\n",
      "Data columns (total 4 columns):\n",
      " #   Column    Non-Null Count  Dtype \n",
      "---  ------    --------------  ----- \n",
      " 0   name      4 non-null      object\n",
      " 1   club      3 non-null      object\n",
      " 2   position  3 non-null      object\n",
      " 3   number    4 non-null      int64 \n",
      "dtypes: int64(1), object(3)\n",
      "memory usage: 260.0+ bytes\n"
     ]
    }
   ],
   "source": [
    "import pandas as pd\n",
    "import numpy as np\n",
    "\n",
    "player_list = [['C. Ronaldo', np.nan, 'Foward', 7],\n",
    "               ['L. Messi', 'Barcelona', 'Foward', 10],\n",
    "               ['Neymar Jr', 'PSG', np.nan, 10],\n",
    "               ['L. Modric', 'Real Madrid', 'Midfielder', 30]]\n",
    "\n",
    "df = pd.DataFrame(player_list, columns=['name', 'club', 'position', 'number'])\n",
    "# df.dropna(inplace=False)\n",
    "df.info()"
   ]
  },
  {
   "cell_type": "code",
   "execution_count": 13,
   "metadata": {},
   "outputs": [
    {
     "data": {
      "image/png": "[encoded data removed]",
      "text/plain": [
       "<Figure size 200x200 with 4 Axes>"
      ]
     },
     "metadata": {},
     "output_type": "display_data"
    }
   ],
   "source": [
    "import matplotlib.pyplot as plt\n",
    "\n",
    "def annotate_axes(fig):\n",
    "    for i, ax in enumerate(fig.axes):\n",
    "        ax.text(.5, .5, \"ax%d\" % (i+1), va=\"center\", ha=\"center\")\n",
    "        ax.tick_params(labelbottom=False, labelleft=False)\n",
    "        \n",
    "fig = plt.figure(figsize=(2,2))\n",
    "ax1 = plt.subplot2grid((2,3),(0,0), colspan=2)\n",
    "ax2 = plt.subplot2grid((2,3),(0,2), rowspan=2)\n",
    "ax3 = plt.subplot2grid((2,3),(1,0))\n",
    "ax4 = plt.subplot2grid((2,3),(1,1))\n",
    "\n",
    "annotate_axes(fig)\n",
    "plt.show()\n"
   ]
  },
  {
   "cell_type": "code",
   "execution_count": null,
   "metadata": {},
   "outputs": [],
   "source": [
    "from sklearn import preprocessing\n",
    "scaler = preprocessing.StandardScaler()\n",
    "X_train_scale = scaler.fit_transform(X_train)"
   ]
  }
 ],
 "metadata": {
  "kernelspec": {
   "display_name": "Python 3",
   "language": "python",
   "name": "python3"
  },
  "language_info": {
   "codemirror_mode": {
    "name": "ipython",
    "version": 3
   },
   "file_extension": ".py",
   "mimetype": "text/x-python",
   "name": "python",
   "nbconvert_exporter": "python",
   "pygments_lexer": "ipython3",
   "version": "3.11.3"
  }
 },
 "nbformat": 4,
 "nbformat_minor": 2
}
